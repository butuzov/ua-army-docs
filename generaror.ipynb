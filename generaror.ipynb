{
 "cells": [
  {
   "cell_type": "markdown",
   "id": "56c9f7bf-b4b1-4775-9a07-67c53eaf4bf7",
   "metadata": {},
   "source": [
    "# Генерація Ексельок \"Виплати Додаткової Допомоги\" для вийськових формувань ЗСУ"
   ]
  },
  {
   "cell_type": "code",
   "execution_count": 1,
   "id": "3be3c488-75bc-4f60-af2d-3156321204b2",
   "metadata": {
    "jupyter": {
     "source_hidden": true
    },
    "tags": []
   },
   "outputs": [],
   "source": [
    "from packaging.version import Version, parse\n",
    "\n",
    "import pandas as pd\n",
    "\n",
    "try:\n",
    "    assert Version(pd.__version__) < Version(\"2.0.0\")\n",
    "except AssertionError:\n",
    "    %pip uninstall pandas -y\n",
    "    %pip install pandas==1.5.0\n",
    "    import pandas as pd\n",
    "    \n",
    "\n",
    "assert Version(pd.__version__) < Version(\"2.0.0\")"
   ]
  },
  {
   "cell_type": "code",
   "execution_count": 2,
   "id": "56dc799d-8415-404b-8e12-8c5712c9ff1b",
   "metadata": {
    "jupyter": {
     "source_hidden": true
    },
    "tags": []
   },
   "outputs": [],
   "source": [
    "try:\n",
    "    import numpy as np\n",
    "except ModuleNotFoundError:\n",
    "    %pip install numpy\n",
    "    import numpy as np"
   ]
  },
  {
   "cell_type": "code",
   "execution_count": 3,
   "id": "15cbd69c-4c53-4589-81d9-16c3f7501349",
   "metadata": {
    "jupyter": {
     "source_hidden": true
    },
    "tags": []
   },
   "outputs": [],
   "source": [
    "try:\n",
    "    import openpyxl as ox\n",
    "except ModuleNotFoundError:\n",
    "    %pip install openpyx\n",
    "    import openpyxl as ox"
   ]
  },
  {
   "cell_type": "code",
   "execution_count": 4,
   "id": "b94022b0-fb98-4bf1-9089-72f52c161072",
   "metadata": {
    "jupyter": {
     "source_hidden": true
    },
    "tags": []
   },
   "outputs": [],
   "source": [
    "from itertools import chain\n",
    "\n",
    "import warnings\n",
    "warnings.filterwarnings('ignore')"
   ]
  },
  {
   "cell_type": "markdown",
   "id": "d6527c18-26b1-41c4-a1dc-66fcf630265b",
   "metadata": {},
   "source": [
    "Цей генератор оперує ексель файлом (див `calendar.xlsx` як приклад) і на основі нього має здатність генерувати таблицю для __рапорту на виплату додаткової винагороди__. Ведення такого файлу дає змогу не витрачати часу на підрахунок особового складу, як курчат по переліку БРок в кінці місяця, потребує мінімальних знать з програмування та екселю/гугл таблиць і дає час людям що ведуть канцелярію витрачати час на більш корисні заняття, але потребує вести ексель файл щодня (або принамні заповнити його перед генерацією) та відформатувати згенеровані таблчики під час подачі рапорту. "
   ]
  },
  {
   "cell_type": "markdown",
   "id": "3b25a8d0-8e79-445b-920f-4c93f4faa45b",
   "metadata": {
    "tags": []
   },
   "source": [
    "#### Додавання нового місяця\n",
    "\n",
    "1. Скопіюйте існуючий листок з попереднім місяцем \n",
    "2. Додайте чи приберіть додаткові дні (див колонки з нумерацією)\n",
    "3. Очистіть заповнені дані\n",
    "4. Починайте вводити дані"
   ]
  },
  {
   "cell_type": "code",
   "execution_count": 5,
   "id": "0860ef59-e819-47e4-a536-b79b523153d2",
   "metadata": {
    "tags": []
   },
   "outputs": [],
   "source": [
    "# не прибирайте цей коментарій - ці змінні потрібни щоб программа могла дізнатись звідки читати дані (нам потрібен сам файл і імя листкаа у ньому)\n",
    "\n",
    "# імя листка у книзі з даними за поточний місяць\n",
    "sheet_name = \"квітень\"  \n",
    "excel_file = \"calendar.xlsx\""
   ]
  },
  {
   "cell_type": "code",
   "execution_count": 6,
   "id": "7a72e288-9bbf-48af-966e-1d1b50299991",
   "metadata": {
    "tags": []
   },
   "outputs": [
    {
     "data": {
      "text/html": [
       "<div>\n",
       "<style scoped>\n",
       "    .dataframe tbody tr th:only-of-type {\n",
       "        vertical-align: middle;\n",
       "    }\n",
       "\n",
       "    .dataframe tbody tr th {\n",
       "        vertical-align: top;\n",
       "    }\n",
       "\n",
       "    .dataframe thead th {\n",
       "        text-align: right;\n",
       "    }\n",
       "</style>\n",
       "<table border=\"1\" class=\"dataframe\">\n",
       "  <thead>\n",
       "    <tr style=\"text-align: right;\">\n",
       "      <th></th>\n",
       "      <th>vzvod</th>\n",
       "      <th>title</th>\n",
       "      <th>rank</th>\n",
       "      <th>posada</th>\n",
       "      <th>category</th>\n",
       "      <th>med_cat</th>\n",
       "      <th>name</th>\n",
       "      <th>dob</th>\n",
       "      <th>phone</th>\n",
       "      <th>1</th>\n",
       "      <th>...</th>\n",
       "      <th>21</th>\n",
       "      <th>22</th>\n",
       "      <th>23</th>\n",
       "      <th>24</th>\n",
       "      <th>25</th>\n",
       "      <th>26</th>\n",
       "      <th>27</th>\n",
       "      <th>28</th>\n",
       "      <th>29</th>\n",
       "      <th>30</th>\n",
       "    </tr>\n",
       "  </thead>\n",
       "  <tbody>\n",
       "    <tr>\n",
       "      <th>0</th>\n",
       "      <td>0</td>\n",
       "      <td>Рота чогось там (Управління)</td>\n",
       "      <td>капітан</td>\n",
       "      <td>Командир роти</td>\n",
       "      <td>офіцер</td>\n",
       "      <td>NaN</td>\n",
       "      <td>БІДЮК Ігор Самуїлович</td>\n",
       "      <td>1995-06-28</td>\n",
       "      <td>NaN</td>\n",
       "      <td>1111</td>\n",
       "      <td>...</td>\n",
       "      <td>1111</td>\n",
       "      <td>1111</td>\n",
       "      <td>1111</td>\n",
       "      <td>1111</td>\n",
       "      <td>1111</td>\n",
       "      <td>1111</td>\n",
       "      <td>1111</td>\n",
       "      <td>1111</td>\n",
       "      <td>1111</td>\n",
       "      <td>1111</td>\n",
       "    </tr>\n",
       "    <tr>\n",
       "      <th>1</th>\n",
       "      <td>0</td>\n",
       "      <td>Рота чогось там (Управління)</td>\n",
       "      <td>старший лейтенант</td>\n",
       "      <td>Заступник командира роти</td>\n",
       "      <td>офіцер</td>\n",
       "      <td>NaN</td>\n",
       "      <td>НАЗАРЕВИЧ Богдан  Владиславович</td>\n",
       "      <td>1981-10-12</td>\n",
       "      <td>NaN</td>\n",
       "      <td>2222</td>\n",
       "      <td>...</td>\n",
       "      <td>2222</td>\n",
       "      <td>2222</td>\n",
       "      <td>2222</td>\n",
       "      <td>2222</td>\n",
       "      <td>2222</td>\n",
       "      <td>2222</td>\n",
       "      <td>2222</td>\n",
       "      <td>2222</td>\n",
       "      <td>2222</td>\n",
       "      <td>2222</td>\n",
       "    </tr>\n",
       "    <tr>\n",
       "      <th>2</th>\n",
       "      <td>0</td>\n",
       "      <td>Рота чогось там (Управління)</td>\n",
       "      <td>капітан</td>\n",
       "      <td>Заступник командира роти з морально-психологіч...</td>\n",
       "      <td>офіцер</td>\n",
       "      <td>NaN</td>\n",
       "      <td>СУПРУНЮК Тимур Кирилоович</td>\n",
       "      <td>1986-02-23</td>\n",
       "      <td>NaN</td>\n",
       "      <td>3333</td>\n",
       "      <td>...</td>\n",
       "      <td>ППД</td>\n",
       "      <td>ППД</td>\n",
       "      <td>ППД</td>\n",
       "      <td>2222</td>\n",
       "      <td>2222</td>\n",
       "      <td>2222</td>\n",
       "      <td>2222</td>\n",
       "      <td>2222</td>\n",
       "      <td>2222</td>\n",
       "      <td>2222</td>\n",
       "    </tr>\n",
       "    <tr>\n",
       "      <th>3</th>\n",
       "      <td>0</td>\n",
       "      <td>Рота чогось там (Управління)</td>\n",
       "      <td>сержант</td>\n",
       "      <td>Головний сержант</td>\n",
       "      <td>сержант</td>\n",
       "      <td>NaN</td>\n",
       "      <td>ОВДІЄНКО Лук’ян Харитонович</td>\n",
       "      <td>1989-11-19</td>\n",
       "      <td>NaN</td>\n",
       "      <td>1111</td>\n",
       "      <td>...</td>\n",
       "      <td>1111</td>\n",
       "      <td>1111</td>\n",
       "      <td>1111</td>\n",
       "      <td>1111</td>\n",
       "      <td>1111</td>\n",
       "      <td>1111</td>\n",
       "      <td>1111</td>\n",
       "      <td>1111</td>\n",
       "      <td>1111</td>\n",
       "      <td>1111</td>\n",
       "    </tr>\n",
       "    <tr>\n",
       "      <th>4</th>\n",
       "      <td>0</td>\n",
       "      <td>Рота чогось там (Управління)</td>\n",
       "      <td>солдат</td>\n",
       "      <td>Сержант з матеріального забезпечення</td>\n",
       "      <td>сержант</td>\n",
       "      <td>NaN</td>\n",
       "      <td>СМАЛЬ Ян Тамерланович</td>\n",
       "      <td>1982-05-29</td>\n",
       "      <td>NaN</td>\n",
       "      <td>3333</td>\n",
       "      <td>...</td>\n",
       "      <td>3333</td>\n",
       "      <td>3333</td>\n",
       "      <td>ППД</td>\n",
       "      <td>ППД</td>\n",
       "      <td>ППД</td>\n",
       "      <td>ППД</td>\n",
       "      <td>ППД</td>\n",
       "      <td>ППД</td>\n",
       "      <td>ППД</td>\n",
       "      <td>ППД</td>\n",
       "    </tr>\n",
       "  </tbody>\n",
       "</table>\n",
       "<p>5 rows × 39 columns</p>\n",
       "</div>"
      ],
      "text/plain": [
       "   vzvod                         title               rank  \\\n",
       "0      0  Рота чогось там (Управління)            капітан   \n",
       "1      0  Рота чогось там (Управління)  старший лейтенант   \n",
       "2      0  Рота чогось там (Управління)            капітан   \n",
       "3      0  Рота чогось там (Управління)            сержант   \n",
       "4      0  Рота чогось там (Управління)             солдат   \n",
       "\n",
       "                                              posada category med_cat  \\\n",
       "0                                      Командир роти   офіцер     NaN   \n",
       "1                          Заступник командира роти    офіцер     NaN   \n",
       "2  Заступник командира роти з морально-психологіч...   офіцер     NaN   \n",
       "3                                   Головний сержант  сержант     NaN   \n",
       "4               Сержант з матеріального забезпечення  сержант     NaN   \n",
       "\n",
       "                              name         dob  phone     1  ...    21    22  \\\n",
       "0            БІДЮК Ігор Самуїлович  1995-06-28    NaN  1111  ...  1111  1111   \n",
       "1  НАЗАРЕВИЧ Богдан  Владиславович  1981-10-12    NaN  2222  ...  2222  2222   \n",
       "2        СУПРУНЮК Тимур Кирилоович  1986-02-23    NaN  3333  ...   ППД   ППД   \n",
       "3      ОВДІЄНКО Лук’ян Харитонович  1989-11-19    NaN  1111  ...  1111  1111   \n",
       "4            СМАЛЬ Ян Тамерланович  1982-05-29    NaN  3333  ...  3333  3333   \n",
       "\n",
       "     23    24    25    26    27    28    29    30  \n",
       "0  1111  1111  1111  1111  1111  1111  1111  1111  \n",
       "1  2222  2222  2222  2222  2222  2222  2222  2222  \n",
       "2   ППД  2222  2222  2222  2222  2222  2222  2222  \n",
       "3  1111  1111  1111  1111  1111  1111  1111  1111  \n",
       "4   ППД   ППД   ППД   ППД   ППД   ППД   ППД   ППД  \n",
       "\n",
       "[5 rows x 39 columns]"
      ]
     },
     "execution_count": 6,
     "metadata": {},
     "output_type": "execute_result"
    }
   ],
   "source": [
    "# перевірка того як виглядають данні\n",
    "\n",
    "df = pd.read_excel(excel_file, sheet_name=sheet_name, header=0)\n",
    "df.head(5)"
   ]
  },
  {
   "cell_type": "code",
   "execution_count": 7,
   "id": "0cabd3be-88a3-46b4-bced-19493900bd50",
   "metadata": {
    "tags": []
   },
   "outputs": [],
   "source": [
    "# якщо ви бажаєте додати свої стани або скорочення, зробіть це тут, \n",
    "# нам умовно знадобляться лише числові номера бойових розпоряджень.\n",
    "\n",
    "BRs = {\n",
    "    1111:   \"БР № 1111 від 11.01.2023\",\n",
    "    2222:   \"БР № 2222 від 22.02.2023\",\n",
    "    3333:   \"БР № 3333 від 01.03.2022\",\n",
    "    \n",
    "    # умовні скорочення для індикаціх стану особового складу (ви можете їх змінити і використовувати їх для чогось ще, напрклад \n",
    "    # генерації бчс або щоденного зведення по підрозділу\n",
    "    \"ШПИТ\" : \"Шпиталь\",\n",
    "    \"РЕАБ\" : \"Реабілітація\",\n",
    "    \"ППД\"  : \"Постійний Пункт Дислокації\",\n",
    "    \"ВІДП\" : \"Відпустка\",\n",
    "    \"КОМ\"  : \"Відрядження\",\n",
    "    \"СЗЧ\"  : \"Самовільне залишення частини\",\n",
    "      \"-\"  : \"200ті\"\n",
    "}"
   ]
  },
  {
   "cell_type": "code",
   "execution_count": 8,
   "id": "4bd065ec-6908-4e8c-9ab9-78f3dcf5e003",
   "metadata": {
    "tags": []
   },
   "outputs": [],
   "source": [
    "# Скатегоризуйте номера соїх БРок (що на 100тку що на 30тку)\n",
    "\n",
    "types = {\n",
    "    100:('2222', '1111'), \n",
    "    30: ('3333'),\n",
    "}\n",
    "\n",
    "# починаємо рахувать з \n",
    "day_from   = 1\n",
    "\n",
    "# кількісь днів у місяці (поставте потрібну кількість власноруч)\n",
    "days_total = 30 \n",
    "\n",
    "def br_type(i):\n",
    "    if str(i) in types[100]: return \"100\"\n",
    "    if str(i) in types[30]: return \"30\"\n",
    "    \n",
    "    return 'non' \n",
    "\n",
    "# форматування дати вручну. \n",
    "def date(day): return f\"2023-04-{day:=02d}\""
   ]
  },
  {
   "cell_type": "code",
   "execution_count": 9,
   "id": "bbad1b52-2f43-45d7-a1b6-2d4d935f063e",
   "metadata": {
    "tags": []
   },
   "outputs": [],
   "source": [
    "ranges = []\n",
    "for i, row in df.iterrows():\n",
    "    \n",
    "    prev_position_loc  = row[1]\n",
    "    prev_position_date = 1\n",
    "    \n",
    "    for day in range(day_from, days_total+1):\n",
    "        \n",
    "        if str(row[day]) == str(prev_position_loc):\n",
    "            continue\n",
    "            \n",
    "        ranges.append((row['rank'], row['name'], prev_position_loc, br_type(prev_position_loc), date(prev_position_date), date(day-1)))\n",
    "        # saves state and switch state\n",
    "        prev_position_loc = row[day]\n",
    "        prev_position_date= day\n",
    "        \n",
    "    \n",
    "    # last day to save \n",
    "    if str(row[days_total]) == str(prev_position_loc):\n",
    "        ranges.append((row['rank'], row['name'], prev_position_loc, br_type(prev_position_loc), date(prev_position_date), date(days_total)))"
   ]
  },
  {
   "cell_type": "code",
   "execution_count": 10,
   "id": "efe75f85-2524-45b6-8518-c563db03a717",
   "metadata": {
    "tags": []
   },
   "outputs": [],
   "source": [
    "# створюємо датафрейм\n",
    "df = pd.DataFrame(ranges, columns=[ \"rank\", \"name\", \"pos\", \"type\", \"from\", \"to\" ])\n",
    "# конвертуємо дати у тип дати\n",
    "df[['from','to']] = df[['from','to']].apply(pd.to_datetime)\n",
    "# додаємо колонку днів\n",
    "df[\"days_total\"] = ((df['to'] - df['from']) / np.timedelta64(1, 'D') + 1).astype(int)\n",
    "# вписуємо нотаток щодо бойового розпорядження\n",
    "df[\"note\"] = df[\"pos\"].apply(lambda x: BRs.get(x, \"У переліку БР відсутній опис\"))\n",
    "\n",
    "del df[\"pos\"]"
   ]
  },
  {
   "cell_type": "code",
   "execution_count": 11,
   "id": "6878e5c3-9256-40d7-82a2-5c2b93138040",
   "metadata": {
    "tags": []
   },
   "outputs": [],
   "source": [
    "from openpyxl.styles import Border, Side, Alignment\n",
    "\n",
    "alignment_default=Alignment(horizontal='left', vertical='center', text_rotation=0, wrap_text=True, shrink_to_fit=False, indent=1)\n",
    "alignment_center=Alignment(horizontal='center', text_rotation=0, wrap_text=True, shrink_to_fit=False)\n",
    "\n",
    "\n",
    "border = Border(left   = Side(border_style=None, color='00000000'),\n",
    "                right  = Side(border_style=None, color='00000000'),\n",
    "                top    = Side(border_style=None, color='FF000000'),\n",
    "                bottom = Side(border_style=None, color='FF000000'))"
   ]
  },
  {
   "cell_type": "code",
   "execution_count": 12,
   "id": "04190989-b636-43c7-bfe4-85746bf92332",
   "metadata": {
    "tags": []
   },
   "outputs": [],
   "source": [
    "wb = ox.load_workbook('template.xlsx')\n",
    "\n",
    "\n",
    "def style(cell, alignment=None):\n",
    "    cell.alignment = alignment if alignment else alignment_default\n",
    "    cell.border    = border\n",
    "\n",
    "    \n",
    "for t in [100, 30]:\n",
    "    # df[(df[\"type\"] == t)].to_excel(writer, sheet_name=str(t), index=False)\n",
    "    sheet = wb.worksheets[wb.sheetnames.index(str(t))]\n",
    "    data = df[(df[\"type\"] == str(t))]\n",
    "    \n",
    "    data.insert(0, \"n\", \"\")\n",
    "    del data[\"type\"]\n",
    "    \n",
    "    data['to'] = data['to'].dt.strftime('%Y-%m-%d')\n",
    "    data['from'] = data['from'].dt.strftime('%Y-%m-%d')\n",
    "    \n",
    "    sizeof = data.shape[0]\n",
    "    \n",
    "    [sheet.append(row) for row in data.values.tolist()]\n",
    "    if not sizeof:\n",
    "        continue\n",
    "    \n",
    "    \n",
    "    seen, counter = [\"\", 0, 0], 1\n",
    "    for column in sheet[f\"C3:C{sizeof+2}\"]:\n",
    "        key = (column[0].value, sheet[f\"b{column[0].row}\"].value)\n",
    "        if key == seen[0]:\n",
    "            \n",
    "            [style(cell, alignment=alignment_center) for cell in chain.from_iterable(sheet[f'D{column[0].row}:F{column[0].row}'])]\n",
    "            \n",
    "            seen[2] = column[0].row\n",
    "            continue\n",
    "        \n",
    "        if seen[1] != seen[2]:\n",
    "            sheet.merge_cells(f'C{seen[1]}:C{seen[2]}')\n",
    "            sheet.merge_cells(f'B{seen[1]}:B{seen[2]}')\n",
    "            sheet.merge_cells(f'A{seen[1]}:A{seen[2]}')\n",
    "            [style(cell, alignment=alignment_center) for cell in \n",
    "                 chain.from_iterable(sheet[f'D{seen[1]}:F{seen[2]}'])]    \n",
    "            \n",
    "        \n",
    "        # reset index\n",
    "        seen = [key, column[0].row, column[0].row]\n",
    "        sheet[f'A{column[0].row}'] = counter\n",
    "        counter += 1\n",
    "            \n",
    "        [style(cell) for cell in chain.from_iterable(sheet[f'A{column[0].row}:C{column[0].row}'])]\n",
    "        [style(cell, alignment=alignment_center) for cell in chain.from_iterable(sheet[f'D{column[0].row}:F{column[0].row}'])]\n",
    "    \n",
    "wb.save(f\"винагорода-{sheet_name}.xlsx\")"
   ]
  },
  {
   "cell_type": "code",
   "execution_count": null,
   "id": "b1030871-5023-4e1a-b2f5-0c9bfc58abb1",
   "metadata": {},
   "outputs": [],
   "source": []
  },
  {
   "cell_type": "code",
   "execution_count": null,
   "id": "3cfa16b2-83b1-495c-802f-d6cf554f393f",
   "metadata": {},
   "outputs": [],
   "source": []
  }
 ],
 "metadata": {
  "kernelspec": {
   "display_name": "Python 3 (ipykernel)",
   "language": "python",
   "name": "python3"
  },
  "language_info": {
   "codemirror_mode": {
    "name": "ipython",
    "version": 3
   },
   "file_extension": ".py",
   "mimetype": "text/x-python",
   "name": "python",
   "nbconvert_exporter": "python",
   "pygments_lexer": "ipython3",
   "version": "3.10.6"
  }
 },
 "nbformat": 4,
 "nbformat_minor": 5
}
